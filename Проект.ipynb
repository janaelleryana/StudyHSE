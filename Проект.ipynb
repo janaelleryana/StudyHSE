{
  "cells": [
    {
      "cell_type": "markdown",
      "metadata": {
        "id": "view-in-github",
        "colab_type": "text"
      },
      "source": [
        "<a href=\"https://colab.research.google.com/github/janaelleryana/StudyHSE/blob/main/%D0%9F%D1%80%D0%BE%D0%B5%D0%BA%D1%82.ipynb\" target=\"_parent\"><img src=\"https://colab.research.google.com/assets/colab-badge.svg\" alt=\"Open In Colab\"/></a>"
      ]
    },
    {
      "cell_type": "code",
      "source": [
        "import requests\n",
        "import json\n",
        "\n",
        "# === НАСТРОЙКИ ===\n",
        "API_KEY = \"\"\n",
        "URL = \"https://openrouter.ai/api/v1/chat/completions\"\n",
        "MODEL = \"qwen/qwen3-coder:free\"\n",
        "\n",
        "# Параметры генерации модели\n",
        "temperature = 0.7      # \"творчество\" модели\n",
        "top_p = 0.9            # альтернативный способ контроля случайности\n",
        "max_tokens = 100       # максимальная длина ответа\n",
        "repetition_penalty = 1  # штраф за повторения\n",
        "\n",
        "payload = {\n",
        "        \"model\": MODEL,\n",
        "        \"messages\": [{\"role\": \"user\", \"content\": \"\"\"Ты - профессиональный лингвист. Проанализируй социально чувствительную историю, представленную ниже, используя теорию глубинных падежей Чарльза Филлмора. Создай case frame каждого предложения.\n",
        "\n",
        "Вот семантические падежи из этой теории и их примеры:\n",
        "\n",
        "Агентив (Agentive, А): “the case of the typically animate perceived instigator of the action identified by the verb.“Пример: Студент (A) сдает экзамен.\n",
        "\n",
        "Инструменталь (Instrumental, I): the case of the inanimate force or object causally involved in the action or state identified by the verb. Пример: Он режет бумагу ножницами (I).\n",
        "\n",
        "Датив (Dative, D): the Dative case is 'the case of the (animate) being affected by the state or action identified by the verb. Пример: Он дал книгу сестре (D).\n",
        "\n",
        "Экспериенцер (Experiencer, E): \"where there is a genuine psychological event or mental state verb», “entity which receives or accepts or experiences or undergoes the effect of an action”Пример: Ей (E) нравится музыка.\n",
        "\n",
        "Фактитив (Factitive, F):  the case of the object or being resulting from the action or state identified by the verb, or understood as a part of the meaning of the verb.» Пример: Она связала свитер (F).\n",
        "\n",
        "Объектив (Objective, O): entity that moves or undergoes change; also a wastebasket for cases that cannot be classified otherwise.  Пример: Он читает книгу (O).\n",
        "\n",
        "Локатив (Locative, L): the case which identifies the location or spatial orientation of the state or action identified by the verb. Пример: Дети играют во дворе (L).\n",
        "\n",
        "Источник (Source, S): no explanation. Пример: Джон (S) учит.\n",
        "\n",
        "Время (Time, T). The case which identifies the time of event. Пример: Встреча началась в пять часов (T).\n",
        "\n",
        "При выполнении задачи учти следующие ограничения:\n",
        "1)Два одинаковых падежа не встречаются в case frame.\n",
        "2)Два существительных не могут иметь одинаковую роль.\n",
        "3)Агентив, Датив и Экспериенцер всегда одушевленные. Объект всегда неодушевленный.\n",
        "\n",
        "Вот история, которую нужно проанализировать:\n",
        "\n",
        "В 9 часов утра Бабушка Нина пришла в аптеку, чтобы купить лекарства. У нее не хватило денег из-за маленькой пенсии. Мужчина в очереди предложил бабушке Нине помощь. Он оплатил ей лекарства. Бабушка Нина поблагодарила его и пригласила пить чай с пирожками.\n",
        "\n",
        "Пример case frame  №1: John opened the door. 'Джон открыл дверь/_А________ О/\n",
        "Пример case frame №2: This key opened the door. 'Этот ключ открыл дверь/ I_____O/\n",
        "\n",
        "Рассуждай по шагам.\n",
        "\n",
        "Если ты отлично справишься с задачей, ты получишь 100 долларов.\n",
        "\"\"\"}],\n",
        "        \"temperature\": temperature,\n",
        "        \"top_p\": top_p,\n",
        "        \"max_tokens\": max_tokens,\n",
        "        \"repetition_penalty\": repetition_penalty\n",
        "    }\n",
        "\n",
        "\n",
        "response = requests.post(\n",
        "        url=URL,\n",
        "        headers={\n",
        "            \"Authorization\": f\"Bearer {API_KEY}\",\n",
        "            \"Content-Type\": \"application/json\",\n",
        "        },\n",
        "        data=json.dumps(payload)\n",
        "    )\n",
        "\n",
        "\n",
        "if response.status_code == 200:\n",
        "        data = response.json()\n",
        "        message = data[\"choices\"][0][\"message\"][\"content\"]\n",
        "        print(\"Ответ модели:\\n\", message)\n",
        "    else:\n",
        "        print(\"Ошибка:\", response.status_code, response.text)\n",
        "\n",
        "\n",
        "\n"
      ],
      "metadata": {
        "id": "eNV7MPk5HkV2"
      },
      "execution_count": null,
      "outputs": []
    }
  ],
  "metadata": {
    "colab": {
      "toc_visible": true,
      "provenance": [],
      "include_colab_link": true
    },
    "kernelspec": {
      "display_name": "Python 3",
      "name": "python3"
    }
  },
  "nbformat": 4,
  "nbformat_minor": 0
}